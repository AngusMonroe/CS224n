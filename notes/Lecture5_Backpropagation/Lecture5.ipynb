{
 "cells": [
  {
   "cell_type": "markdown",
   "metadata": {},
   "source": [
    "最后一次数学课，其实都是些很基础的推导而已。从四个不同的层面讲解反向传播，其中电路和有向图类比还是很直观新颖的解释。"
   ]
  },
  {
   "cell_type": "markdown",
   "metadata": {},
   "source": [
    "## 任意层的通用公式\n",
    "\n",
    "![屏幕快照 2018-06-11 下午3.54.42.png](https://i.loli.net/2018/06/11/5b1e2aeab0e87.png)"
   ]
  },
  {
   "cell_type": "markdown",
   "metadata": {},
   "source": [
    "## 反向传播的电路解释\n",
    "\n",
    "比如函数$f(x,y,z)=(x+y)z$可视作如下加法器和乘法器电路：\n",
    "\n",
    "![006Fmjmcly1fgg6yl6kkkj30dj06lwf9.jpg](https://i.loli.net/2018/06/11/5b1e2ba9d1ce9.jpg)\n",
    "\n",
    "定义$q=x+y$、$f=qz$\n",
    "\n",
    "![屏幕快照 2018-06-11 下午4.00.36.png](https://i.loli.net/2018/06/11/5b1e2c3bcf902.png)\n",
    "\n",
    "我们可以从输出到输入反向计算，先得到输出关于输出自己的导数：\n",
    "\n",
    "![006Fmjmcly1fgg74rep00j30dg092gmn.jpg](https://i.loli.net/2018/06/11/5b1e2ba9e77db.jpg)\n",
    "\n",
    "然后得到$f$关于$z$的导数：\n",
    "\n",
    "![006Fmjmcly1fggca3ixlzj30db0933zm.jpg](https://i.loli.net/2018/06/11/5b1e2ba9e4653.jpg)\n",
    "\n",
    "另一条路，$f$关于$q$的导数：\n",
    "\n",
    "![006Fmjmcly1fggccfk9rij30de09fdh1.jpg](https://i.loli.net/2018/06/11/5b1e2ba9e5da7.jpg)\n",
    "\n",
    "$f$关于$y$的导数：\n",
    "\n",
    "![006Fmjmcly1fggcdy0rb3j30dd0bpmz8.jpg](https://i.loli.net/2018/06/11/5b1e2baa0373e.jpg)\n",
    "\n",
    "$f$关于$x$的导数：\n",
    "\n",
    "![006Fmjmcly1fggceiaorhj30dh0bm0ut.jpg](https://i.loli.net/2018/06/11/5b1e2ba9ee01d.jpg)\n",
    "\n",
    "这种反向回溯的过程放到神经元中就是反向传播了：\n",
    "\n",
    "![006Fmjmcly1fggdmt7dsaj30o80dmdjb.jpg](https://i.loli.net/2018/06/11/5b1e2baa05014.jpg)\n",
    "\n",
    "反向传播时每通过一级，就用链式法则乘以这一级的导数。\n",
    "\n",
    "另一个稍微复杂一点的例子：\n",
    "\n",
    "![006Fmjmcly1fggduhglzgj30pi0cu0x2.jpg](https://i.loli.net/2018/06/11/5b1e2d192aca7.jpg)\n",
    "\n",
    "其中，sigmoid相关的元件可以合并为一个sigmoid gate：\n",
    "\n",
    "![006Fmjmcly1fggdwi63cmj30nj0cydjw.jpg](https://i.loli.net/2018/06/11/5b1e2d192934a.jpg)"
   ]
  },
  {
   "cell_type": "markdown",
   "metadata": {},
   "source": [
    "## 第三种理解：流程图\n",
    "\n",
    "将上述电路视作有向无环流程图去理解链式法则，比如一条路径：\n",
    "\n",
    "![006Fmjmcly1fgge2zd5tcj30id0cr75r.jpg](https://i.loli.net/2018/06/11/5b1e2dc03d28a.jpg)\n",
    "\n",
    "2条路径：\n",
    "\n",
    "![006Fmjmcly1fgge408mygj30m40cw40p.jpg](https://i.loli.net/2018/06/11/5b1e2dc04749d.jpg)\n",
    "\n",
    "推广到多条路径：\n",
    "\n",
    "![006Fmjmcly1fgge4ywkerj30l70cmq4j.jpg](https://i.loli.net/2018/06/11/5b1e2dc03ea8f.jpg)\n",
    "\n",
    "推广到更复杂的流程图：\n",
    "\n",
    "![006Fmjmcly1fgge5ww9dzj30ox0eijub.jpg](https://i.loli.net/2018/06/11/5b1e2dc0527fe.jpg)\n",
    "\n",
    "只要找到z的所有父节点应用链式法则并求和即可。\n",
    "\n",
    "神经网络可以视作流程图的一个实例：\n",
    "\n",
    "![006Fmjmcly1fgge8sex75j30o40e5tbw.jpg](https://i.loli.net/2018/06/11/5b1e2dc05a331.jpg)\n",
    "\n",
    "任意流程图都可以执行反向传播：\n",
    "\n",
    "![006Fmjmcly1fgge9mdibhj30og0ee783.jpg](https://i.loli.net/2018/06/11/5b1e2dc05becf.jpg)\n",
    "\n",
    "现在有一些软件包（TensorFlow）可以自动从前向传播的symbolic expression（符号表达式）推导梯度，适用于快速设计原型。（其实matlab里也可以）\n",
    "\n",
    "![006Fmjmcly1fggedhah1vj309b0deq44.jpg](https://i.loli.net/2018/06/11/5b1e2dc050f2f.jpg)"
   ]
  },
  {
   "cell_type": "markdown",
   "metadata": {},
   "source": [
    "## 第四种解释：实际神经网络中的误差信号\n",
    "\n",
    "其实就是把上面这些解释综合起来的解释，对如下2层的网络来讲：\n",
    "\n",
    "![006Fmjmcly1fggeff92m3j30o409a3zs.jpg](https://i.loli.net/2018/06/11/5b1e2eba62a83.jpg)\n",
    "\n",
    "假设最后一层对$z^{(3)}$的误差是$\\delta^{(3)}$：\n",
    "\n",
    "![006Fmjmcly1fggekfl67bj30l10at74s.jpg](https://i.loli.net/2018/06/11/5b1e2eba61dea.jpg)\n",
    "\n",
    "于是对$W^{(2)}$的导数是$\\delta^{(3)}a^{(2)T}$通过线性乘法器，对$a^{(2)}$的导数是权值与$\\delta^{(3)}$的乘积：\n",
    "\n",
    "![006Fmjmcly1fggenlhz6jj30l509uq3k.jpg](https://i.loli.net/2018/06/11/5b1e2eba630a1.jpg)\n",
    "\n",
    "通过一个sigmoid gate，对$z^{(2)}$的导数是：\n",
    "\n",
    "![006Fmjmcly1fgger4utr0j30lp0bd0tm.jpg](https://i.loli.net/2018/06/11/5b1e2eba63655.jpg)\n",
    "\n",
    "再通过一个线性乘法器，得到对$a^{(1)}$的导数：\n",
    "\n",
    "![006Fmjmcly1fggetfyqytj30mt0ay3z5-2.jpg](https://i.loli.net/2018/06/11/5b1e2eba62456.jpg)"
   ]
  }
 ],
 "metadata": {
  "kernelspec": {
   "display_name": "Python 3",
   "language": "python",
   "name": "python3"
  },
  "language_info": {
   "codemirror_mode": {
    "name": "ipython",
    "version": 3
   },
   "file_extension": ".py",
   "mimetype": "text/x-python",
   "name": "python",
   "nbconvert_exporter": "python",
   "pygments_lexer": "ipython3",
   "version": "3.6.1"
  }
 },
 "nbformat": 4,
 "nbformat_minor": 2
}
