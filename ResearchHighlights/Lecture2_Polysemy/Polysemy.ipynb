{
 "cells": [
  {
   "cell_type": "markdown",
   "metadata": {},
   "source": [
    "# Lecture2 Polysemy\n",
    "\n",
    "![屏幕快照 2018-04-15 上午10.31.44.png](https://i.loli.net/2018/04/15/5ad2b9abe1e79.png)\n",
    "\n",
    "这次的Research Highlight的全名叫做“词语义项的线性代数结构与词义消歧”\n",
    "\n",
    "词向量本身无法解决一词多义的问题，比如：\n",
    "\n",
    "![屏幕快照 2018-04-15 上午10.33.51.png](https://i.loli.net/2018/04/15/5ad2ba3baef9d.png)\n",
    "\n",
    "这里的tie可能表示球赛的平局，也可能表示领带，还可能表示绳子打结。那它的词向量究竟在哪里呢？\n",
    "\n",
    "虽然相似的词被映射到邻近的位置，但该论文证明词向量是所有义项的平均：\n",
    "\n",
    "![屏幕快照 2018-04-15 上午10.34.17.png](https://i.loli.net/2018/04/15/5ad2ba3c06d5b.png)\n",
    "\n",
    "它被映射到这些词语的中央，这有什么用呢，可以复原它的所有义项吗？\n",
    "\n",
    "### 复原\n",
    "\n",
    "研究发现义项是由如下sparse coding编码：\n",
    "\n",
    "![屏幕快照 2018-04-15 上午10.35.45.png](https://i.loli.net/2018/04/15/5ad2bac2d901f.png)\n",
    "\n",
    "这里的$A$是类似于sports之类的Context vectors（或说义项的vector），$\\alpha$是某个Context vector的系数（hard sparsity constraint）。论文中说这些参数可以通过标准k-SVD算法求出。\n",
    "\n",
    "### 复原结果\n",
    "\n",
    "![屏幕快照 2018-04-15 上午10.39.01.png](https://i.loli.net/2018/04/15/5ad2bb5334aef.png)\n",
    "\n",
    "### 量化评测\n",
    "\n",
    "是请了各国的研究生与该方法一起作为实验对象，做如下的题目：\n",
    "\n",
    "![屏幕快照 2018-04-15 上午10.36.09.png](https://i.loli.net/2018/04/15/5ad2bac30553d.png)\n",
    "\n",
    "问他们这些词语与某个词是否相关，计算PR值。结果证明，这种方法可以达到non-native speaker的水平。\n",
    "\n",
    "![屏幕快照 2018-04-15 上午10.36.22.png](https://i.loli.net/2018/04/15/5ad2bac2e558d.png)\n",
    "\n",
    "### 总结\n",
    "\n",
    "词向量是多个义项的叠加。通过复原方法，可以通过sparse coding的k-SVD算法复原词向量中的所有义项。复原水平达到non-native English speakers的水准。"
   ]
  }
 ],
 "metadata": {
  "kernelspec": {
   "display_name": "Python 3",
   "language": "python",
   "name": "python3"
  },
  "language_info": {
   "codemirror_mode": {
    "name": "ipython",
    "version": 3
   },
   "file_extension": ".py",
   "mimetype": "text/x-python",
   "name": "python",
   "nbconvert_exporter": "python",
   "pygments_lexer": "ipython3",
   "version": "3.6.1"
  }
 },
 "nbformat": 4,
 "nbformat_minor": 2
}
