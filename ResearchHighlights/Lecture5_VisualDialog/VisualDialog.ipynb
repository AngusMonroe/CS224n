{
 "cells": [
  {
   "cell_type": "markdown",
   "metadata": {},
   "source": [
    "# Lecture5 Visual Dialog"
   ]
  },
  {
   "cell_type": "markdown",
   "metadata": {},
   "source": [
    "图像对话是自然语言处理与计算机视觉的交叉应用。你可以给聊天机器人发送图片，它能理解图片的意思，你们可以就图片内容展开对话；除了文本之外，让图片也成为交流的一部分；这可以帮助盲人理解周围或社交媒体上的信息。\n",
    "\n",
    "![006Fmjmcly1fgss4n371hj31by0pihdt.jpg](https://i.loli.net/2018/08/28/5b84c01e26ecd.jpg)"
   ]
  },
  {
   "cell_type": "markdown",
   "metadata": {},
   "source": [
    "## 相关工作\n",
    "\n",
    "已经有很多工作在为图像和文本搭建桥梁了。\n",
    "\n",
    "### 图像视频自动标题\n",
    "\n",
    "![006Fmjmcly1fgss71tne1j31e00pub29.jpg](https://i.loli.net/2018/08/28/5b84c06f4ea9a.jpg)\n",
    "\n",
    "虽然效果有限，比如右边这只猫实际上在与一只貂戏耍，而不是一个玩具。\n",
    "\n",
    "### 图像语义对齐\n",
    "\n",
    "也就是将一个图片中的各个物体自动框出来，自动输出物体之间的语义联系：\n",
    "\n",
    "![006Fmjmcly1fgssbhlpaaj31e60nob29.jpg](https://i.loli.net/2018/08/28/5b84c09e19dd3.jpg)\n",
    "\n",
    "### 图像QA\n",
    "\n",
    "这种应用已经快要接近图像对话了，只不过QA系统一般是独立的一问一答，而且机器给出的答案一般很短：\n",
    "\n",
    "![006Fmjmcly1fgssedw4cgj319i0o07wh.jpg](https://i.loli.net/2018/08/28/5b84c0e405999.jpg)"
   ]
  },
  {
   "cell_type": "markdown",
   "metadata": {},
   "source": [
    "## 贡献\n",
    "\n",
    "这篇文章提出了这么一种新的任务：图像对话。\n",
    "\n",
    "然后开发了一个双人对话协议，整理了一个数据库。\n",
    "\n",
    "介绍了一系列用于图像对话的神经网络模型。"
   ]
  },
  {
   "cell_type": "markdown",
   "metadata": {},
   "source": [
    "## 技术细节\n",
    "\n",
    "用于处理图像的CNN，用于处理问题的LSTM，和另一个用于处理历史对话内容的LSTM：\n",
    "\n",
    "![006Fmjmcly1fgsskbitv9j31bm0nm4ih.jpg](https://i.loli.net/2018/08/28/5b84c11dbf57c.jpg)"
   ]
  },
  {
   "cell_type": "markdown",
   "metadata": {},
   "source": [
    "## 数据集\n",
    "\n",
    "![006Fmjmcly1fgssmmqel3j31d80pgneu.jpg](https://i.loli.net/2018/08/28/5b84c15b18075.jpg)\n",
    "\n",
    "右边是与QA数据集的对比，可见比起QA数据集，VD的答案所含词语数更多，没有唯一答案的问题更多。"
   ]
  },
  {
   "cell_type": "markdown",
   "metadata": {},
   "source": [
    "## 结果\n",
    "\n",
    "![006Fmjmcly1fgsspwij9fj31dy0pyh6z.jpg](https://i.loli.net/2018/08/28/5b84c184f01d6.jpg)"
   ]
  }
 ],
 "metadata": {
  "kernelspec": {
   "display_name": "Python 3",
   "language": "python",
   "name": "python3"
  },
  "language_info": {
   "codemirror_mode": {
    "name": "ipython",
    "version": 3
   },
   "file_extension": ".py",
   "mimetype": "text/x-python",
   "name": "python",
   "nbconvert_exporter": "python",
   "pygments_lexer": "ipython3",
   "version": "3.6.1"
  }
 },
 "nbformat": 4,
 "nbformat_minor": 2
}
