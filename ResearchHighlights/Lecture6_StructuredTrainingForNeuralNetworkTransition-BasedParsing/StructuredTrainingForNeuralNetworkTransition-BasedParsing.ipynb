{
 "cells": [
  {
   "cell_type": "markdown",
   "metadata": {},
   "source": [
    "# Lecture6 Structured Training for Neural Network Transition-Based Parsing"
   ]
  },
  {
   "cell_type": "markdown",
   "metadata": {},
   "source": [
    "基于转移的依存句法分析是一种取一个句子并将其转换为依赖解析树的方法\n",
    "\n",
    "根据句子的状态预测转换，重复这一过程直到得到完全转换的句子"
   ]
  },
  {
   "cell_type": "markdown",
   "metadata": {},
   "source": [
    "## What is SyntexNet\n",
    "\n",
    "SyntexNet是谷歌在16年开源的“世界上最精准的开源句法分析器”，它基于TF来做句法分析，现在支持40种语言（不包含简体中文）。英文版称为Parse McParseface\n",
    "\n",
    "这项工作在Chen & Manning的开山之作、Weiss et al的工作上面做了一些改进：\n",
    "\n",
    "![屏幕快照 2019-02-08 22.23.58.png](https://i.loli.net/2019/02/08/5c5d911579734.png)\n"
   ]
  },
  {
   "cell_type": "markdown",
   "metadata": {},
   "source": [
    "## 三项主要贡献：\n",
    "\n",
    "1. 利用未标注数据——“Tri-Training”\n",
    "2. 神经网络调参\n",
    "3. 最上层加了一层：结构化感知机与柱搜索\n",
    "\n",
    "![屏幕快照 2019-02-08 22.26.51.png](https://i.loli.net/2019/02/08/5c5d91cd97a83.png)\n",
    "\n",
    "训练数据越大，模型效果越好，但我们不可能穷尽所有数据，而且有些数据出现的十分稀少\n",
    "\n",
    "使用两个模型分析同一个未标注句子，如果一致，则作为训练样本加入训练集中。利用得到的更大的训练集训练更精准的模型。\n",
    "\n",
    "![屏幕快照 2019-02-08 22.27.00.png](https://i.loli.net/2019/02/08/5c5d91cdd4f99.png)\n",
    "\n",
    "微调了现有模型结构：1.一个hidden layer变成了两个，2.激活函数cube->relu，3.最上层（softmax层之上）加了一层感知机\n",
    "\n",
    "注意上图中感知机的输入来自从前面第一层隐藏层开始的每一层的输出。\n",
    "\n",
    "![屏幕快照 2019-02-08 22.40.53.png](https://i.loli.net/2019/02/08/5c5d95050165a.png)\n",
    "\n",
    "要解决的问题是：之前转移动作是贪心的决策，无法根据接下来的动作做全局（或较为全局）的决策，也无法撤销错误的决策。\n",
    "\n",
    "解决办法：考虑接下来的决策，搜索整棵转移树\n",
    "\n",
    "具体做法是记录$K$个得分最高的长度为$m$的预测序列"
   ]
  },
  {
   "cell_type": "markdown",
   "metadata": {},
   "source": [
    "## 结论\n",
    "\n",
    "![屏幕快照 2019-02-08 22.48.52.png](https://i.loli.net/2019/02/08/5c5d96e58cfb1.png)\n",
    "\n",
    "用上了这3种改进之后，提高了1个百分点，然后SyntaxNet用Global Normalization替换了Local Normalization以解决标记偏置问题，这带来了0.6个百分点的提升。"
   ]
  }
 ],
 "metadata": {
  "kernelspec": {
   "display_name": "Python 3",
   "language": "python",
   "name": "python3"
  },
  "language_info": {
   "codemirror_mode": {
    "name": "ipython",
    "version": 3
   },
   "file_extension": ".py",
   "mimetype": "text/x-python",
   "name": "python",
   "nbconvert_exporter": "python",
   "pygments_lexer": "ipython3",
   "version": "3.6.1"
  }
 },
 "nbformat": 4,
 "nbformat_minor": 2
}
