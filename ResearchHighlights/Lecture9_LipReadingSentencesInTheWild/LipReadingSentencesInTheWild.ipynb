{
 "cells": [
  {
   "cell_type": "markdown",
   "metadata": {},
   "source": [
    "## 任务定义\n",
    "\n",
    "从视频中的唇语识别所说内容。将视频处理为以嘴唇为中心的图片序列，给或不给语音，预测正在讲的话。\n",
    "\n",
    "## 架构\n",
    "\n",
    "视觉和听觉两个模块或者混合交火或者单独使用，每次输出一个字母。\n",
    "\n",
    "![006Fmjmcly1fh3ced66x0j30se0oo7kb.jpg](https://i.loli.net/2020/03/11/g2XlTQtbxkFGo6A.jpg)\n",
    "\n",
    "## 视觉\n",
    "\n",
    "取嘴唇时序上的sliding window，先喂给CNN，再喂给LSTM，生成一个output vectors\n",
    "\n",
    "![006Fmjmcly1fh3c8tujp5j31dc0fykgi.jpg](https://i.loli.net/2020/03/11/VYD2BzOIpUMcXix.jpg)\n",
    "\n",
    "## 听觉\n",
    "\n",
    "类似地，取音频上的窗口分片\n",
    "\n",
    "![006Fmjmcly1fh3c6bbaa6j31d00rkti4.jpg](https://i.loli.net/2020/03/11/lQYyJLaDGK8RcCz.jpg)\n",
    "\n",
    "## Attention与Spell\n",
    "\n",
    "将上述两个LSTM输出的output states送入一个带两个attention拓展的LSTM：\n",
    "\n",
    "![006Fmjmcly1fh3a44o2m2j31c20osad3.jpg](https://i.loli.net/2020/03/11/l2JgSaURZX8PkvV.jpg)\n",
    "\n",
    "## Curriculum Learning\n",
    "\n",
    "通常训练seq2seq模型时喂进去的是完整的句子，但Curriculum Learning的手法是，一次只喂几个单词，逐步增长。这样可以加快收敛速度，降低过拟合。\n",
    "\n",
    "![006Fmjmcly1fh39zvt92oj31dq0oiak8.jpg](https://i.loli.net/2020/03/11/OUukiAQGa9rq5Tl.jpg)\n",
    "\n",
    "## Scheduled Sampling\n",
    "\n",
    "通常训练递归模型的时候，使用的是前一个时刻的“标准答案”的one-hot向量，而这里根据前一个时刻的预测结果采样，让训练和测试统一起来。\n",
    "\n",
    "![006Fmjmcly1fh39v4e4dcj31di0potf7.jpg](https://i.loli.net/2020/03/11/ly1XitS2wHWgzmp.jpg)\n",
    "\n",
    "## Experiment\n",
    "\n",
    "来自BBC新闻的五千个小时的视频，对齐字幕，做了嘴唇位置等预处理。\n",
    "\n",
    "![006Fmjmcly1fh39tj93trj31bs0u6ajx.jpg](https://i.loli.net/2020/03/11/scFthbp3Iw5oMqK.jpg)\n",
    "\n",
    "有趣之处在于，他们将模型效果与专业做唇语翻译的公司做了对比，发现比专业人士还要准，而且错误率低了20个百分点。\n",
    "\n",
    "在同时输入语音和唇语的情况下，错误可以做到更低。\n",
    "\n",
    "![006Fmjmcly1fh39r03yj7j31520kq41e.jpg](https://i.loli.net/2020/03/11/oIWHzyUjEe9VLat.jpg)"
   ]
  }
 ],
 "metadata": {
  "kernelspec": {
   "display_name": "Python 2",
   "language": "python",
   "name": "python2"
  },
  "language_info": {
   "codemirror_mode": {
    "name": "ipython",
    "version": 2
   },
   "file_extension": ".py",
   "mimetype": "text/x-python",
   "name": "python",
   "nbconvert_exporter": "python",
   "pygments_lexer": "ipython2",
   "version": "2.7.15"
  }
 },
 "nbformat": 4,
 "nbformat_minor": 2
}
