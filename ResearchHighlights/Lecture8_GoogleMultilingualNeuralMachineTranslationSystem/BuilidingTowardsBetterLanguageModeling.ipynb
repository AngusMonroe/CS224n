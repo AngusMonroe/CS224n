{
 "cells": [
  {
   "cell_type": "markdown",
   "metadata": {},
   "source": [
    "# Lecture8 Google's Multilingual Neural Machine Translation System: Enabling Zero-Shot Translation"
   ]
  },
  {
   "cell_type": "markdown",
   "metadata": {},
   "source": [
    "如下图所示是一个NMT系统的标准结构，带有一个encoder和一个decoder。但这种结构只支持两种语言之间的翻译，为实现多种语言之间的翻译，提出了很多方法\n",
    "\n",
    "![截屏2020-02-2416.14.21.png](https://i.loli.net/2020/02/24/1bueWdjVpcXYoIt.png)\n",
    "\n",
    "- 其中一个方法是使用多种encoder和多种decoder，每对encoder和decoder代表一对语言的task\n",
    "\n",
    "    ![截屏2020-02-2416.18.00.png](https://i.loli.net/2020/02/24/le3romTRD62kvBN.png)\n",
    " \n",
    "- 第二种方法是使用一个共享的encoder用于编码一种语言，然后用不同的decoder来解码至不同语言\n",
    "\n",
    "    ![截屏2020-02-2416.18.05.png](https://i.loli.net/2020/02/24/SWDdc3Of8Q7n5VI.png)\n",
    "\n",
    "- 而第三种是用不同语言的encoder用来编码，用共享的decoder解码为不同语言\n",
    "\n",
    "    ![截屏2020-02-2416.18.09.png](https://i.loli.net/2020/02/24/819SV3pbmUAtfzu.png)\n",
    "\n",
    "谷歌的NMT系统有什么不同呢？\n",
    "\n",
    "- 单个统一的模型\n",
    "\n",
    "- 通过对其他语种的学习可以大幅提升语料匮乏的语种的翻译效果\n",
    "\n",
    "- 可以直接翻译训练语料中不存在的语种组合方式（通过葡萄牙语->芬兰语、芬兰语->英语学习葡萄牙语->英语的翻译）\n",
    "\n",
    "![截屏2020-02-2416.26.34.png](https://i.loli.net/2020/02/24/DZs7nXdBTHLJv1m.png)\n",
    "\n",
    "他们使用的架构与常见的encoder-decoder没有什么不同，其中聪明之处在于不修改网络架构，而是在输入数据上做手脚。只需在输入平行语料pair中人工加入目标语种的标示符，就可以把所有语种的平行语料混合在一起训练了：\n",
    "\n",
    "![截屏2020-02-2416.30.37.png](https://i.loli.net/2020/02/24/xopvzMkZDOGwhXc.png)\n",
    "\n",
    "Performance:\n",
    "\n",
    "![截屏2020-02-2416.31.09.png](https://i.loli.net/2020/02/24/1cdpXyoBHGRwzKN.png)\n",
    "\n",
    "此外，该系统还可以实现Zero-Shot，在训练的时候只使用葡萄牙语到英语、英语到西班牙语的语料，就可以让模型学会葡萄牙语到西班牙语的翻译。而且效果可以与phrase-based MT相比。如果再加一点葡萄牙语到西班牙语的语料，该系统就可以击败上述所有模型。\n",
    "\n",
    "![截屏2020-02-2416.31.18.png](https://i.loli.net/2020/02/24/2I1u6DzE3cPVxYk.png)"
   ]
  }
 ],
 "metadata": {
  "kernelspec": {
   "display_name": "Python 3",
   "language": "python",
   "name": "python3"
  },
  "language_info": {
   "codemirror_mode": {
    "name": "ipython",
    "version": 3
   },
   "file_extension": ".py",
   "mimetype": "text/x-python",
   "name": "python",
   "nbconvert_exporter": "python",
   "pygments_lexer": "ipython3",
   "version": "3.6.7"
  }
 },
 "nbformat": 4,
 "nbformat_minor": 2
}
