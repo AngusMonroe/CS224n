{
 "cells": [
  {
   "cell_type": "markdown",
   "metadata": {},
   "source": [
    "# Lecture7 Builiding Towards Better Language Modeling"
   ]
  },
  {
   "cell_type": "markdown",
   "metadata": {},
   "source": [
    "Language Model是NLP领域最具权威的模型\n",
    "\n",
    "我们已经知道一些手段来改进语言模型，比如：\n",
    "\n",
    "- 更好的输入：词→词根→字符\n",
    "\n",
    "    ![屏幕快照 2019-02-11 18.30.44.png](https://i.loli.net/2019/02/11/5c614ede47b92.png)\n",
    "    \n",
    "    文本具有多种颗粒度，更细的颗粒度相当于减小了词表，让模型更容易做对选择。试验表明的确降低了error：\n",
    "    \n",
    "    ![屏幕快照 2019-02-11 18.31.33.png](https://i.loli.net/2019/02/11/5c614f0d92866.png)\n",
    "\n",
    "- 更好的正则化/预处理\n",
    "\n",
    "    Language Model一个很重要的问题是overfitting，我们可以使用正则化来进行处理\n",
    "    \n",
    "    我们不可能有无限的数据，所以需要进行预处理来让我们的语料更接近语言真实使用中的分布，预处理指的是，随机地将句子中的一些单词替换成另外的单词（比如把一个地名替换为另一个），或者使用BiGram统计信息来生成替换。这样会得到一个更加平滑的分布，高频词将一些出场机会匀给了低频词。\n",
    "\n",
    "    ![屏幕快照 2019-02-11 18.37.03.png](https://i.loli.net/2019/02/11/5c615068e2628.png)\n",
    "    \n",
    "    对错误率的降低效果如下（左边是正则化，右边是预处理）：\n",
    "    \n",
    "    ![屏幕快照 2019-02-11 18.37.11.png](https://i.loli.net/2019/02/11/5c6150691d860.png)\n",
    "\n",
    "- 这些手段综合起来得到了更好的语言模型\n",
    "\n",
    "    ![屏幕快照 2019-02-11 20.45.18.png](https://i.loli.net/2019/02/11/5c616e8cdbd47.png)\n",
    "\n",
    "    ![屏幕快照 2019-02-11 20.45.49.png](https://i.loli.net/2019/02/11/5c616e8ced5c9.png)\n",
    "\n"
   ]
  },
  {
   "cell_type": "markdown",
   "metadata": {},
   "source": []
  }
 ],
 "metadata": {
  "kernelspec": {
   "display_name": "Python 3",
   "language": "python",
   "name": "python3"
  },
  "language_info": {
   "codemirror_mode": {
    "name": "ipython",
    "version": 3
   },
   "file_extension": ".py",
   "mimetype": "text/x-python",
   "name": "python",
   "nbconvert_exporter": "python",
   "pygments_lexer": "ipython3",
   "version": "3.6.1"
  }
 },
 "nbformat": 4,
 "nbformat_minor": 2
}
