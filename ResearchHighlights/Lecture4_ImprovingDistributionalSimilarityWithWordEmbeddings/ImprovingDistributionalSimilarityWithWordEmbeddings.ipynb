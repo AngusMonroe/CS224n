{
 "cells": [
  {
   "cell_type": "markdown",
   "metadata": {},
   "source": [
    "# Lecture4 Improving Distributional Similarity With Word Embeddings\n",
    "\n",
    "这篇论文挑战了对神经网络的迷信，展示了传统模型的生命力以及调参的重要性。\n",
    "\n",
    "## 词语表示方法\n",
    "\n",
    "以前的课程中讲过两大类得到dense词语表示的方法，一般认为NN模型更好：\n",
    "\n",
    "![006Fmjmcly1fgm77jm6fhj31em0qmgqj.jpg](https://i.loli.net/2018/07/20/5b51856f2031d.jpg)\n",
    "\n",
    "这里的PPMI也是一种利用共现矩阵的方法。\n",
    "\n",
    "但Levy指出，超参数和实现细节比算法本身更重要：\n",
    "\n",
    "![006Fmjmcly1fgm78kk7yzj31ea0qojwh.jpg](https://i.loli.net/2018/07/20/5b51856f24c89.jpg)\n",
    "\n",
    "## Skip-Gram中的超参数\n",
    "\n",
    "有负例的采样个数，负采样算法中的平滑指数：\n",
    "\n",
    "![006Fmjmcly1fgm7b243glj316y0kcte8.jpg](https://i.loli.net/2018/07/20/5b51856edc99e.jpg)\n",
    "\n",
    "对PMI的启发\n",
    "\n",
    "PMI中也有个类似负采样中的平滑指数的超参数：\n",
    "\n",
    "![006Fmjmcly1fgm7jaeuzaj30wi0iadjt.jpg](https://i.loli.net/2018/07/20/5b51856ebb12b.jpg)\n",
    "\n",
    "试验证明，取$\\frac{3}{4}$恰好能得到最好的效果。\n",
    "另外在一种叫Shifted PMI的变种中，也有类似于负采样个数的超参数：\n",
    "\n",
    "![006Fmjmcly1fgm7kpl29pj3160096gnz.jpg](https://i.loli.net/2018/07/20/5b51856ead1b6.jpg)\n",
    "\n",
    "## 可调超参数一览表\n",
    "\n",
    "这些方法中，存在大量的超参数可供折腾：\n",
    "\n",
    "![006Fmjmcly1fgm7mnf0h6j31ci0oggr1.jpg](https://i.loli.net/2018/07/20/5b51856f274f5.jpg)\n",
    "\n",
    "## 调参结果\n",
    "\n",
    "将每种方法能调的超参数调到最佳，得到如下结果：\n",
    "\n",
    "![006Fmjmcly1fgm7n4vwznj31e80lywuk.jpg](https://i.loli.net/2018/07/20/5b51856f29fea.jpg)\n",
    "\n",
    "结果表示，没有性能稳定的方法，时而是count-based方法胜出，时而是NN方法胜出。\n",
    "\n",
    "## 结论\n",
    "\n",
    "- 这篇文章挑战了人们对NN模型的迷信，展示了NN模型并不一定比传统模型好。\n",
    "\n",
    "- 虽然模型设计很重要，要想拿到好的效果，调参也非常非常重要。\n",
    "\n",
    "- 不要迷信，要勇于挑战流行的论点（小哥认为词的向量表示领域还有很大的探索空间）。"
   ]
  }
 ],
 "metadata": {
  "kernelspec": {
   "display_name": "Python 3",
   "language": "python",
   "name": "python3"
  },
  "language_info": {
   "codemirror_mode": {
    "name": "ipython",
    "version": 3
   },
   "file_extension": ".py",
   "mimetype": "text/x-python",
   "name": "python",
   "nbconvert_exporter": "python",
   "pygments_lexer": "ipython3",
   "version": "3.6.1"
  }
 },
 "nbformat": 4,
 "nbformat_minor": 2
}
